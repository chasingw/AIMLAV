{
 "cells": [
  {
   "cell_type": "code",
   "execution_count": 3,
   "metadata": {},
   "outputs": [
    {
     "name": "stdout",
     "output_type": "stream",
     "text": [
      "======\n",
      "Loading NuScenes tables for version v1.0-mini...\n",
      "23 category,\n",
      "8 attribute,\n",
      "4 visibility,\n",
      "911 instance,\n",
      "12 sensor,\n",
      "120 calibrated_sensor,\n",
      "31206 ego_pose,\n",
      "8 log,\n",
      "10 scene,\n",
      "404 sample,\n",
      "31206 sample_data,\n",
      "18538 sample_annotation,\n",
      "4 map,\n",
      "Done loading in 1.3 seconds.\n",
      "======\n",
      "Reverse indexing ...\n",
      "Done reverse indexing in 0.6 seconds.\n",
      "======\n"
     ]
    }
   ],
   "source": [
    "%matplotlib inline\n",
    "from nuscenes.nuscenes import NuScenes\n",
    "\n",
    "nusc = NuScenes(version='v1.0-mini', dataroot='data/sets/nuscenes', verbose=True)"
   ]
  },
  {
   "cell_type": "code",
   "execution_count": 13,
   "metadata": {},
   "outputs": [
    {
     "data": {
      "text/plain": [
       "[{'token': '70aecbe9b64f4722ab3c230391a3beb8',\n",
       "  'sample_token': 'cd21dbfc3bd749c7b10a5c42562e0c42',\n",
       "  'instance_token': '6dd2cbf4c24b4caeb625035869bca7b5',\n",
       "  'visibility_token': '4',\n",
       "  'attribute_tokens': ['4d8821270b4a47e3a8a300cbec48188e'],\n",
       "  'translation': [373.214, 1130.48, 1.25],\n",
       "  'size': [0.621, 0.669, 1.642],\n",
       "  'rotation': [0.9831098797903927, 0.0, 0.0, -0.18301629506281616],\n",
       "  'prev': 'a1721876c0944cdd92ebc3c75d55d693',\n",
       "  'next': '1e8e35d365a441a18dd5503a0ee1c208',\n",
       "  'num_lidar_pts': 5,\n",
       "  'num_radar_pts': 0,\n",
       "  'category_name': 'human.pedestrian.adult'}]"
      ]
     },
     "execution_count": 13,
     "metadata": {},
     "output_type": "execute_result"
    }
   ],
   "source": [
    "nusc.sample_annotation[:1]"
   ]
  },
  {
   "cell_type": "code",
   "execution_count": 16,
   "metadata": {},
   "outputs": [
    {
     "data": {
      "text/plain": [
       "{'token': '708c25a86d314da5b62197d7064bd339',\n",
       " 'sample_token': 'abf3d91d3c28407e80e3334fe89c03cb',\n",
       " 'ego_pose_token': '708c25a86d314da5b62197d7064bd339',\n",
       " 'calibrated_sensor_token': 'a858134f587548429f781b26b3348d1f',\n",
       " 'timestamp': 1542801007254844,\n",
       " 'fileformat': 'jpg',\n",
       " 'is_key_frame': False,\n",
       " 'height': 900,\n",
       " 'width': 1600,\n",
       " 'filename': 'sweeps/CAM_FRONT_LEFT/n015-2018-11-21-19-38-26+0800__CAM_FRONT_LEFT__1542801007254844.jpg',\n",
       " 'prev': '54eee1a7ee014bccb5c04d90779dfa10',\n",
       " 'next': 'a2cfe5a9deb24806b70c7a791de9c46d',\n",
       " 'sensor_modality': 'camera',\n",
       " 'channel': 'CAM_FRONT_LEFT'}"
      ]
     },
     "execution_count": 16,
     "metadata": {},
     "output_type": "execute_result"
    }
   ],
   "source": [
    "nusc.sample_data[-1]"
   ]
  },
  {
   "cell_type": "code",
   "execution_count": 12,
   "metadata": {},
   "outputs": [
    {
     "data": {
      "text/plain": [
       "{'token': 'abf3d91d3c28407e80e3334fe89c03cb',\n",
       " 'timestamp': 1542801007446751,\n",
       " 'prev': '0d6668bcb0644bbaaee81c17cc308845',\n",
       " 'next': '',\n",
       " 'scene_token': 'e233467e827140efa4b42d2b4c435855',\n",
       " 'data': {'RADAR_FRONT': 'eaf239f22ed44bb1a097f85a5ff8da2e',\n",
       "  'RADAR_FRONT_LEFT': 'd68d81258f6042bba51683f00490c428',\n",
       "  'RADAR_FRONT_RIGHT': '4972971b75564817be10230af5d0d5b1',\n",
       "  'RADAR_BACK_LEFT': '6f06273d87a341029731c0db79e548bb',\n",
       "  'RADAR_BACK_RIGHT': '52d122035860407387effc3e39c5aa62',\n",
       "  'LIDAR_TOP': 'e7d9eec0e14a4a25beffd451517b520e',\n",
       "  'CAM_FRONT': '445dcd95cebc4c21b3e6a929fd2297bc',\n",
       "  'CAM_FRONT_RIGHT': '62f2f587354b4f0fa8954447394a0df4',\n",
       "  'CAM_BACK_RIGHT': 'f253e8760cb0441fbeade8f4e0ba7b11',\n",
       "  'CAM_BACK': 'ae1cee7e46fe414bb25519d6ae31c8af',\n",
       "  'CAM_BACK_LEFT': '8fdaff77e2de4d8ba21392e9b7d840ef',\n",
       "  'CAM_FRONT_LEFT': '8a87b74c6f8c46d49b73e96dd6d5f263'},\n",
       " 'anns': ['1dc0b90f9c9b4af2bf2ba9a26b53c404',\n",
       "  'a1fb73db59474fb2bbb3f8cbf6b459c4',\n",
       "  '7c5971da5a274146983f9c3f3ef12779',\n",
       "  '8f237ef77e414772bb0ceb9a6ce1173c',\n",
       "  '41f1a231ac494c58803afdf2a00526a4',\n",
       "  '7edd47680dff4d24a0f4969a2a3a47a7',\n",
       "  'bf2aecdca3e048519f24dd1dc7857a6e',\n",
       "  '98626dc6a1254c7db968d99a084b4e40',\n",
       "  '8110c8f323d843948f291a4e8f2bc8a4',\n",
       "  '92f8178052dd4af781cced8d5b298e30',\n",
       "  '94ef9fe6becd4f1f871e12c3c8e6ea26',\n",
       "  '908bd5a6f7d54d18849e402f31c9e8d8',\n",
       "  '271b6f4f93a749a6a74ea0ed4a075014',\n",
       "  '8191a4aa789c43f8b86483cfef5dd997',\n",
       "  '75a0d7bd8cf54a749471a6a87b66fdb3',\n",
       "  '7b101b98e36a4f83acf4595fd40222b4',\n",
       "  'fa0ed615fa094a0590612282df1632fd',\n",
       "  '92c07609585c46b6bca00f999bef628d',\n",
       "  'c62b4660fa21488c9714d5865157ab92',\n",
       "  '43efbc6ede7e493e8c3f75a6ce1624c0',\n",
       "  'e0c1c20e0e4347a08e14b3bee6667aba']}"
      ]
     },
     "execution_count": 12,
     "metadata": {},
     "output_type": "execute_result"
    }
   ],
   "source": [
    "nusc.get('sample', nusc.sample_data[-1]['sample_token'])"
   ]
  },
  {
   "cell_type": "code",
   "execution_count": 39,
   "metadata": {},
   "outputs": [
    {
     "name": "stdout",
     "output_type": "stream",
     "text": [
      "dt_object = 2018-11-21 13:40:07\n",
      "type(dt_object) = <class 'datetime.datetime'>\n"
     ]
    }
   ],
   "source": [
    "from datetime import datetime\n",
    "timestamp = 1542825607\n",
    "dt_object = datetime.fromtimestamp(timestamp)\n",
    "print(\"dt_object =\", dt_object)\n",
    "print(\"type(dt_object) =\", type(dt_object))"
   ]
  },
  {
   "cell_type": "code",
   "execution_count": null,
   "metadata": {},
   "outputs": [],
   "source": []
  }
 ],
 "metadata": {
  "kernelspec": {
   "display_name": "Python 3",
   "language": "python",
   "name": "python3"
  }
 },
 "nbformat": 4,
 "nbformat_minor": 2
}
